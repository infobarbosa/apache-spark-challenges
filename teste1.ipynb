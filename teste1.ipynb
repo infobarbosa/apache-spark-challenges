{
 "cells": [
  {
   "cell_type": "code",
   "execution_count": 4,
   "metadata": {},
   "outputs": [],
   "source": [
    "from pyspark.sql import SparkSession\n",
    "from pyspark.sql.types import StructType, StructField, StringType, IntegerType, LongType"
   ]
  },
  {
   "cell_type": "code",
   "execution_count": 5,
   "metadata": {},
   "outputs": [
    {
     "data": {
      "text/plain": [
       "'3.5.1'"
      ]
     },
     "execution_count": 5,
     "metadata": {},
     "output_type": "execute_result"
    }
   ],
   "source": [
    "spark = SparkSession.builder.appName(\"teste1\").getOrCreate()\n",
    "spark.version"
   ]
  },
  {
   "cell_type": "code",
   "execution_count": 13,
   "metadata": {},
   "outputs": [],
   "source": [
    "schema = StructType([ \\\n",
    "    StructField(\"ID\", LongType(), True), \\\n",
    "    StructField(\"CPF\", StringType(), True),\\\n",
    "    StructField(\"NOME\", StringType(), True),\\\n",
    "    StructField(\"MUNICIPIO\", StringType(), True),\\\n",
    "    StructField(\"UF\", StringType(), True)])"
   ]
  },
  {
   "cell_type": "code",
   "execution_count": 16,
   "metadata": {},
   "outputs": [],
   "source": [
    "df = spark \\\n",
    "    .read \\\n",
    "    .schema(schema) \\\n",
    "    .option(\"header\", \"true\") \\\n",
    "    .option(\"delimiter\", \";\") \\\n",
    "    .option(\"encoding\", \"ISO-8859-1\") \\\n",
    "    .option(\"delimiter\", \";\") \\\n",
    "    .csv(\"./assets/data/pessoas/pessoas.csv\")\n"
   ]
  },
  {
   "cell_type": "code",
   "execution_count": 18,
   "metadata": {},
   "outputs": [
    {
     "name": "stdout",
     "output_type": "stream",
     "text": [
      "+-----------+--------------+---------------------------------+-------------------+---+\n",
      "|ID         |CPF           |NOME                             |MUNICIPIO          |UF |\n",
      "+-----------+--------------+---------------------------------+-------------------+---+\n",
      "|20128077306|***.081.588-**|ADRIANE DE JESUS SANTOS          |ITAPIRAPUA PAULISTA|SP |\n",
      "|16358953061|***.086.753-**|MARIA DO ROSARIO GOMES DE MELO   |MORRO AGUDO        |SP |\n",
      "|13622350775|***.523.498-**|ADRIANA SANTOS                   |SAO PAULO          |SP |\n",
      "|20732189858|***.330.168-**|DANIELA OLIVEIRA DOS SANTOS      |SAO PAULO          |SP |\n",
      "|20789861660|***.575.228-**|MARCILENE DE SOUZA FERREIRA      |SAO PAULO          |SP |\n",
      "|16076155060|***.835.265-**|TATIANE ALVES SANTOS             |SAO PAULO          |SP |\n",
      "|12102260099|***.615.358-**|MARCIA CRISTINA MONTANHANA       |CARAGUATATUBA      |SP |\n",
      "|20128077306|***.081.588-**|ADRIANE DE JESUS SANTOS          |ITAPIRAPUA PAULISTA|SP |\n",
      "|16358953061|***.086.753-**|MARIA DO ROSARIO GOMES DE MELO   |MORRO AGUDO        |SP |\n",
      "|20030724885|***.799.568-**|EDNA FERREIRA DOS SANTOS         |OSASCO             |SP |\n",
      "|13622350775|***.523.498-**|ADRIANA SANTOS                   |SAO PAULO          |SP |\n",
      "|20732189858|***.330.168-**|DANIELA OLIVEIRA DOS SANTOS      |SAO PAULO          |SP |\n",
      "|20789861660|***.575.228-**|MARCILENE DE SOUZA FERREIRA      |SAO PAULO          |SP |\n",
      "|16076155060|***.835.265-**|TATIANE ALVES SANTOS             |SAO PAULO          |SP |\n",
      "|13764601778|NULL          |THIAGO INACIO GUIMARAES          |ALTINOPOLIS        |SP |\n",
      "|12213013464|***.027.448-**|MARIA LUCIA ANA SOARES DA SILVA  |ANDRADINA          |SP |\n",
      "|16443377908|***.691.578-**|MARINALVA AUGUSTA PEREIRA OSMINEA|ANDRADINA          |SP |\n",
      "|12628261156|***.060.108-**|RONALDO DA SILVA                 |ANDRADINA          |SP |\n",
      "|16279285236|***.553.978-**|FABIANA MARANGONI DA SILVA       |APARECIDA D'OESTE  |SP |\n",
      "|20041300704|***.125.578-**|MARIA URSULINO DE ALMEIDA        |APIAI              |SP |\n",
      "+-----------+--------------+---------------------------------+-------------------+---+\n",
      "only showing top 20 rows\n",
      "\n"
     ]
    }
   ],
   "source": [
    "df.show(truncate=False)\n"
   ]
  },
  {
   "cell_type": "code",
   "execution_count": 19,
   "metadata": {},
   "outputs": [],
   "source": [
    "df.createOrReplaceTempView(\"pessoas\")"
   ]
  },
  {
   "cell_type": "code",
   "execution_count": 21,
   "metadata": {},
   "outputs": [
    {
     "name": "stderr",
     "output_type": "stream",
     "text": [
      "[Stage 8:=============================>                             (2 + 2) / 4]\r"
     ]
    },
    {
     "name": "stdout",
     "output_type": "stream",
     "text": [
      "+----------------------------------+---+\n",
      "|nome                              |qtt|\n",
      "+----------------------------------+---+\n",
      "|PAULA APARECIDA SOARES DOS SANTOS |2  |\n",
      "|VERA LUCIA DOS SANTOS             |199|\n",
      "|APARECIDA DE JESUS SILVA          |8  |\n",
      "|CARLOS ROBERTO RODRIGUES          |10 |\n",
      "|ELISANGELA PEREIRA LIMA           |2  |\n",
      "|PRISCILA SILVA DE OLIVEIRA        |15 |\n",
      "|SELMA MARIA DA SILVA              |42 |\n",
      "|ANA CRISTINA PEREIRA DA SILVA     |13 |\n",
      "|RAFAELA SOUZA COSTA               |3  |\n",
      "|ELIETE DE SOUZA SILVA             |2  |\n",
      "|ERIKA SILVA RAMOS                 |2  |\n",
      "|RAIMUNDO NONATO DA SILVA          |15 |\n",
      "|BEATRIZ DA SILVA                  |46 |\n",
      "|ROSILENE FERREIRA DA SILVA        |16 |\n",
      "|AGNALDO APARECIDO DOS SANTOS      |2  |\n",
      "|SUELI APARECIDA RODRIGUES DA SILVA|2  |\n",
      "|ELISABETE RODRIGUES DOS SANTOS    |7  |\n",
      "|GILMAR JOSE DOS SANTOS            |4  |\n",
      "|KARINA DE SOUZA                   |13 |\n",
      "|MARILENE SILVA DOS SANTOS         |8  |\n",
      "+----------------------------------+---+\n",
      "only showing top 20 rows\n",
      "\n"
     ]
    },
    {
     "name": "stderr",
     "output_type": "stream",
     "text": [
      "                                                                                \r"
     ]
    }
   ],
   "source": [
    "spark.sql(\"SELECT nome, COUNT(DISTINCT id) qtt FROM pessoas GROUP BY nome HAVING COUNT(DISTINCT id) > 1\") \\\n",
    "    .show(truncate=False)"
   ]
  },
  {
   "cell_type": "code",
   "execution_count": 23,
   "metadata": {},
   "outputs": [
    {
     "name": "stderr",
     "output_type": "stream",
     "text": [
      "[Stage 12:>                                                         (0 + 1) / 1]\r"
     ]
    },
    {
     "name": "stdout",
     "output_type": "stream",
     "text": [
      "+-----------+--------------+------------------------+----------+---+\n",
      "|ID         |CPF           |NOME                    |MUNICIPIO |UF |\n",
      "+-----------+--------------+------------------------+----------+---+\n",
      "|16117315733|***.359.068-**|APARECIDA DE JESUS SILVA|BARRETOS  |SP |\n",
      "|21352016526|NULL          |APARECIDA DE JESUS SILVA|GUARIBA   |SP |\n",
      "|20418689428|***.369.858-**|APARECIDA DE JESUS SILVA|JALES     |SP |\n",
      "|20429555924|***.160.118-**|APARECIDA DE JESUS SILVA|PAULINIA  |SP |\n",
      "|20381458983|NULL          |APARECIDA DE JESUS SILVA|PRADOPOLIS|SP |\n",
      "|20373408891|***.388.525-**|APARECIDA DE JESUS SILVA|SANTOS    |SP |\n",
      "|13642886859|***.278.418-**|APARECIDA DE JESUS SILVA|SAO PAULO |SP |\n",
      "|13548762890|NULL          |APARECIDA DE JESUS SILVA|SAO PAULO |SP |\n",
      "+-----------+--------------+------------------------+----------+---+\n",
      "\n"
     ]
    },
    {
     "name": "stderr",
     "output_type": "stream",
     "text": [
      "                                                                                \r"
     ]
    }
   ],
   "source": [
    "spark.sql(\"SELECT * FROM pessoas WHERE nome = 'APARECIDA DE JESUS SILVA'\") \\\n",
    "    .show(truncate=False)"
   ]
  },
  {
   "cell_type": "code",
   "execution_count": null,
   "metadata": {},
   "outputs": [],
   "source": []
  }
 ],
 "metadata": {
  "kernelspec": {
   "display_name": "Python 3",
   "language": "python",
   "name": "python3"
  },
  "language_info": {
   "codemirror_mode": {
    "name": "ipython",
    "version": 3
   },
   "file_extension": ".py",
   "mimetype": "text/x-python",
   "name": "python",
   "nbconvert_exporter": "python",
   "pygments_lexer": "ipython3",
   "version": "3.9.6"
  }
 },
 "nbformat": 4,
 "nbformat_minor": 2
}
