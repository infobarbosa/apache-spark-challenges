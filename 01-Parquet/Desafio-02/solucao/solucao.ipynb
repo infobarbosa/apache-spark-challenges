{
 "cells": [
  {
   "cell_type": "markdown",
   "metadata": {},
   "source": [
    "# Apache Spark Challenges\n",
    "Author: Prof. Barbosa<br>\n",
    "Contact: infobarbosa@gmail.com<br>\n",
    "Github: [infobarbosa](https://github.com/infobarbosa)"
   ]
  },
  {
   "cell_type": "code",
   "execution_count": 2,
   "metadata": {},
   "outputs": [
    {
     "name": "stdout",
     "output_type": "stream",
     "text": [
      "Defaulting to user installation because normal site-packages is not writeable\n",
      "Requirement already satisfied: pyspark in /home/barbosa/.local/lib/python3.10/site-packages (3.5.1)\n",
      "Requirement already satisfied: py4j==0.10.9.7 in /home/barbosa/.local/lib/python3.10/site-packages (from pyspark) (0.10.9.7)\n"
     ]
    }
   ],
   "source": [
    "! pip install pyspark"
   ]
  },
  {
   "cell_type": "code",
   "execution_count": 3,
   "metadata": {},
   "outputs": [
    {
     "name": "stderr",
     "output_type": "stream",
     "text": [
      "your 131072x1 screen size is bogus. expect trouble\n",
      "Warning: Ignoring non-Spark config property: mapreduce.fileoutputcommitter.marksuccessfuljobs\n",
      "Warning: Ignoring non-Spark config property: dfs.client.read.shortcircuit.skip.checksum\n",
      "24/06/23 20:26:12 WARN Utils: Your hostname, brubeck resolves to a loopback address: 127.0.1.1; using 10.255.255.254 instead (on interface lo)\n",
      "24/06/23 20:26:12 WARN Utils: Set SPARK_LOCAL_IP if you need to bind to another address\n",
      "Setting default log level to \"WARN\".\n",
      "To adjust logging level use sc.setLogLevel(newLevel). For SparkR, use setLogLevel(newLevel).\n",
      "24/06/23 20:26:12 WARN NativeCodeLoader: Unable to load native-hadoop library for your platform... using builtin-java classes where applicable\n",
      "24/06/23 20:26:13 WARN Utils: Service 'SparkUI' could not bind on port 4040. Attempting port 4041.\n"
     ]
    }
   ],
   "source": [
    "from pyspark.sql.types import *\n",
    "from pyspark.sql import SparkSession\n",
    "\n",
    "spark = SparkSession.builder \\\n",
    "    .appName(\"SparkSQL\") \\\n",
    "    .config(\"spark.sql.files.maxPartitionBytes\", \"1048576\") \\\n",
    "    .config(\"dfs.client.read.shortcircuit.skip.checksum\", \"true\") \\\n",
    "    .config(\"mapreduce.fileoutputcommitter.marksuccessfuljobs\", \"false\") \\\n",
    "    .getOrCreate()"
   ]
  },
  {
   "cell_type": "markdown",
   "metadata": {},
   "source": [
    "### O schema"
   ]
  },
  {
   "cell_type": "code",
   "execution_count": 9,
   "metadata": {},
   "outputs": [],
   "source": [
    "schema = StructType([ \\\n",
    "    StructField(\"ID\", LongType(), True), \\\n",
    "    StructField(\"CPF\", StringType(), True),\\\n",
    "    StructField(\"NOME\", StringType(), True),\\\n",
    "    StructField(\"MUNICIPIO\", StringType(), True),\\\n",
    "    StructField(\"UF\", StringType(), True)])"
   ]
  },
  {
   "cell_type": "markdown",
   "metadata": {},
   "source": [
    "### O dataframe"
   ]
  },
  {
   "cell_type": "code",
   "execution_count": 16,
   "metadata": {},
   "outputs": [],
   "source": [
    "df = spark.read.format(\"csv\") \\\n",
    "    .option(\"header\", \"true\") \\\n",
    "    .option(\"delimiter\", \";\") \\\n",
    "    .schema(schema) \\\n",
    "    .load(\"../../../assets/data/pessoas/pessoas.csv\")\n"
   ]
  },
  {
   "cell_type": "code",
   "execution_count": 17,
   "metadata": {},
   "outputs": [
    {
     "name": "stdout",
     "output_type": "stream",
     "text": [
      "root\n",
      " |-- ID: long (nullable = true)\n",
      " |-- CPF: string (nullable = true)\n",
      " |-- NOME: string (nullable = true)\n",
      " |-- MUNICIPIO: string (nullable = true)\n",
      " |-- UF: string (nullable = true)\n",
      "\n"
     ]
    }
   ],
   "source": [
    "df.printSchema()"
   ]
  },
  {
   "cell_type": "code",
   "execution_count": 18,
   "metadata": {},
   "outputs": [
    {
     "name": "stdout",
     "output_type": "stream",
     "text": [
      "+-----------+--------------+--------------------+-------------------+---+\n",
      "|         ID|           CPF|                NOME|          MUNICIPIO| UF|\n",
      "+-----------+--------------+--------------------+-------------------+---+\n",
      "|20128077306|***.081.588-**|ADRIANE DE JESUS ...|ITAPIRAPUA PAULISTA| SP|\n",
      "|16358953061|***.086.753-**|MARIA DO ROSARIO ...|        MORRO AGUDO| SP|\n",
      "|13622350775|***.523.498-**|      ADRIANA SANTOS|          SAO PAULO| SP|\n",
      "|20732189858|***.330.168-**|DANIELA OLIVEIRA ...|          SAO PAULO| SP|\n",
      "|20789861660|***.575.228-**|MARCILENE DE SOUZ...|          SAO PAULO| SP|\n",
      "|16076155060|***.835.265-**|TATIANE ALVES SANTOS|          SAO PAULO| SP|\n",
      "|12102260099|***.615.358-**|MARCIA CRISTINA M...|      CARAGUATATUBA| SP|\n",
      "|20128077306|***.081.588-**|ADRIANE DE JESUS ...|ITAPIRAPUA PAULISTA| SP|\n",
      "|16358953061|***.086.753-**|MARIA DO ROSARIO ...|        MORRO AGUDO| SP|\n",
      "|20030724885|***.799.568-**|EDNA FERREIRA DOS...|             OSASCO| SP|\n",
      "|13622350775|***.523.498-**|      ADRIANA SANTOS|          SAO PAULO| SP|\n",
      "|20732189858|***.330.168-**|DANIELA OLIVEIRA ...|          SAO PAULO| SP|\n",
      "|20789861660|***.575.228-**|MARCILENE DE SOUZ...|          SAO PAULO| SP|\n",
      "|16076155060|***.835.265-**|TATIANE ALVES SANTOS|          SAO PAULO| SP|\n",
      "|13764601778|          NULL|THIAGO INACIO GUI...|        ALTINOPOLIS| SP|\n",
      "|12213013464|***.027.448-**|MARIA LUCIA ANA S...|          ANDRADINA| SP|\n",
      "|16443377908|***.691.578-**|MARINALVA AUGUSTA...|          ANDRADINA| SP|\n",
      "|12628261156|***.060.108-**|    RONALDO DA SILVA|          ANDRADINA| SP|\n",
      "|16279285236|***.553.978-**|FABIANA MARANGONI...|  APARECIDA D'OESTE| SP|\n",
      "|20041300704|***.125.578-**|MARIA URSULINO DE...|              APIAI| SP|\n",
      "+-----------+--------------+--------------------+-------------------+---+\n",
      "only showing top 20 rows\n",
      "\n"
     ]
    }
   ],
   "source": [
    "df.show()"
   ]
  },
  {
   "cell_type": "code",
   "execution_count": 20,
   "metadata": {},
   "outputs": [
    {
     "name": "stdout",
     "output_type": "stream",
     "text": [
      "== Parsed Logical Plan ==\n",
      "Relation [ID#136L,CPF#137,NOME#138,MUNICIPIO#139,UF#140] csv\n",
      "\n",
      "== Analyzed Logical Plan ==\n",
      "ID: bigint, CPF: string, NOME: string, MUNICIPIO: string, UF: string\n",
      "Relation [ID#136L,CPF#137,NOME#138,MUNICIPIO#139,UF#140] csv\n",
      "\n",
      "== Optimized Logical Plan ==\n",
      "Relation [ID#136L,CPF#137,NOME#138,MUNICIPIO#139,UF#140] csv\n",
      "\n",
      "== Physical Plan ==\n",
      "FileScan csv [ID#136L,CPF#137,NOME#138,MUNICIPIO#139,UF#140] Batched: false, DataFilters: [], Format: CSV, Location: InMemoryFileIndex(1 paths)[file:/home/barbosa/labs/apache-spark-challenges/assets/data/pessoas/pe..., PartitionFilters: [], PushedFilters: [], ReadSchema: struct<ID:bigint,CPF:string,NOME:string,MUNICIPIO:string,UF:string>\n",
      "\n"
     ]
    }
   ],
   "source": [
    "df.explain(extended=True)"
   ]
  },
  {
   "cell_type": "code",
   "execution_count": 21,
   "metadata": {},
   "outputs": [
    {
     "data": {
      "text/plain": [
       "1"
      ]
     },
     "execution_count": 21,
     "metadata": {},
     "output_type": "execute_result"
    }
   ],
   "source": [
    "df.rdd.getNumPartitions()"
   ]
  },
  {
   "cell_type": "markdown",
   "metadata": {},
   "source": [
    "### Contagem de registros"
   ]
  },
  {
   "cell_type": "code",
   "execution_count": 19,
   "metadata": {},
   "outputs": [
    {
     "name": "stderr",
     "output_type": "stream",
     "text": [
      "24/06/23 20:40:59 WARN RowBasedKeyValueBatch: Calling spill() on RowBasedKeyValueBatch. Will not spill but return 0.\n"
     ]
    },
    {
     "name": "stdout",
     "output_type": "stream",
     "text": [
      "Quantidade de registros:2458075, distintos: 2449428\n"
     ]
    },
    {
     "name": "stderr",
     "output_type": "stream",
     "text": [
      "                                                                                \r"
     ]
    }
   ],
   "source": [
    "print(\"Quantidade de registros:\" + str(df.count()) + \", distintos: \" + str(df.distinct().count()))"
   ]
  },
  {
   "cell_type": "markdown",
   "metadata": {},
   "source": [
    "### Escrevendo o arquivo parquet"
   ]
  },
  {
   "cell_type": "code",
   "execution_count": 22,
   "metadata": {},
   "outputs": [
    {
     "name": "stderr",
     "output_type": "stream",
     "text": [
      "                                                                                \r"
     ]
    }
   ],
   "source": [
    "pasta_destino=\"./output/clientes/cliente.parquet\"\n",
    "\n",
    "df.write.parquet(pasta_destino, mode=\"overwrite\")"
   ]
  },
  {
   "cell_type": "code",
   "execution_count": null,
   "metadata": {},
   "outputs": [],
   "source": []
  }
 ],
 "metadata": {
  "kernelspec": {
   "display_name": "Python 3",
   "language": "python",
   "name": "python3"
  },
  "language_info": {
   "codemirror_mode": {
    "name": "ipython",
    "version": 3
   },
   "file_extension": ".py",
   "mimetype": "text/x-python",
   "name": "python",
   "nbconvert_exporter": "python",
   "pygments_lexer": "ipython3",
   "version": "3.10.12"
  }
 },
 "nbformat": 4,
 "nbformat_minor": 2
}
