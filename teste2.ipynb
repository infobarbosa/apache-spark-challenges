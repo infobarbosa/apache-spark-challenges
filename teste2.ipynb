{
 "cells": [
  {
   "cell_type": "code",
   "execution_count": 57,
   "metadata": {},
   "outputs": [],
   "source": [
    "from pyspark.sql import SparkSession\n",
    "from pyspark.sql.types import *"
   ]
  },
  {
   "cell_type": "code",
   "execution_count": 58,
   "metadata": {},
   "outputs": [
    {
     "data": {
      "text/plain": [
       "'3.5.1'"
      ]
     },
     "execution_count": 58,
     "metadata": {},
     "output_type": "execute_result"
    }
   ],
   "source": [
    "spark = SparkSession.builder.appName(\"teste2\").getOrCreate()\n",
    "spark.version"
   ]
  },
  {
   "cell_type": "code",
   "execution_count": 59,
   "metadata": {},
   "outputs": [],
   "source": [
    "schema_pessoas = StructType([ \\\n",
    "    StructField(\"ID\", LongType(), True), \\\n",
    "    StructField(\"CPF\", StringType(), True),\\\n",
    "    StructField(\"NOME\", StringType(), True),\\\n",
    "    StructField(\"MUNICIPIO\", StringType(), True),\\\n",
    "    StructField(\"UF\", StringType(), True)])"
   ]
  },
  {
   "cell_type": "code",
   "execution_count": 60,
   "metadata": {},
   "outputs": [],
   "source": [
    "pessoas = [\n",
    "(20128077306,\"***.081.588-**\",\"ADRIANE DE JESUS SANTOS\"           ,\"ITAPIRAPUA PAULISTA\" ,\"SP\"),\n",
    "(21352016526,None            ,\"APARECIDA DE JESUS SILVA\"          ,\"GUARIBA\"             ,\"SP\"),\n",
    "(16358953061,\"***.086.753-**\",\"MARIA DO ROSARIO GOMES DE MELO\"    ,\"MORRO AGUDO\"         ,\"SP\"),\n",
    "(13622350775,\"***.523.498-**\",\"ADRIANA SANTOS\"                    ,\"SAO PAULO\"           ,\"SP\"),\n",
    "(20418689428,\"***.369.858-**\",\"APARECIDA DE JESUS SILVA\"          ,\"JALES\"               ,\"SP\"),\n",
    "(20732189858,\"***.330.168-**\",\"DANIELA OLIVEIRA DOS SANTOS\"       ,\"SAO PAULO\"           ,\"SP\"),\n",
    "(20381458983,None            ,\"APARECIDA DE JESUS SILVA\"          ,\"PRADOPOLIS\"          ,\"SP\"),\n",
    "(20789861660,\"***.575.228-**\",\"MARCILENE DE SOUZA FERREIRA\"       ,\"SAO PAULO\"           ,\"SP\"),\n",
    "(20429555924,\"***.160.118-**\",\"APARECIDA DE JESUS SILVA\"          ,\"PAULINIA\"            ,\"SP\"),\n",
    "(16076155060,\"***.835.265-**\",\"TATIANE ALVES SANTOS\"              ,\"SAO PAULO\"           ,\"SP\"),\n",
    "(12102260099,\"***.615.358-**\",\"MARCIA CRISTINA MONTANHANA\"        ,\"CARAGUATATUBA\"       ,\"SP\"),\n",
    "(20128077306,\"***.081.588-**\",\"ADRIANE DE JESUS SANTOS\"           ,\"ITAPIRAPUA PAULISTA\" ,\"SP\"),\n",
    "(16358953061,\"***.086.753-**\",\"MARIA DO ROSARIO GOMES DE MELO\"    ,\"MORRO AGUDO\"         ,\"SP\"),\n",
    "(13642886859,\"***.278.418-**\",\"APARECIDA DE JESUS SILVA\"          ,\"SAO PAULO\"           ,\"SP\"),\n",
    "(20030724885,\"***.799.568-**\",\"EDNA FERREIRA DOS SANTOS\"          ,\"OSASCO\"              ,\"SP\"),\n",
    "(13622350775,\"***.523.498-**\",\"ADRIANA SANTOS\"                    ,\"SAO PAULO\"           ,\"SP\"),\n",
    "(16117315733,\"***.359.068-**\",\"APARECIDA DE JESUS SILVA\"          ,\"BARRETOS\"            ,\"SP\"),\n",
    "(20373408891,\"***.388.525-**\",\"APARECIDA DE JESUS SILVA\"          ,\"SANTOS\"              ,\"SP\"),\n",
    "(13548762890,None            ,\"APARECIDA DE JESUS SILVA\"          ,\"SAO PAULO\"           ,\"SP\")\n",
    "]\n",
    "\n"
   ]
  },
  {
   "cell_type": "code",
   "execution_count": 61,
   "metadata": {},
   "outputs": [
    {
     "data": {
      "text/plain": [
       "[(20128077306,\n",
       "  '***.081.588-**',\n",
       "  'ADRIANE DE JESUS SANTOS',\n",
       "  'ITAPIRAPUA PAULISTA',\n",
       "  'SP'),\n",
       " (21352016526, None, 'APARECIDA DE JESUS SILVA', 'GUARIBA', 'SP'),\n",
       " (16358953061,\n",
       "  '***.086.753-**',\n",
       "  'MARIA DO ROSARIO GOMES DE MELO',\n",
       "  'MORRO AGUDO',\n",
       "  'SP'),\n",
       " (13622350775, '***.523.498-**', 'ADRIANA SANTOS', 'SAO PAULO', 'SP'),\n",
       " (20418689428, '***.369.858-**', 'APARECIDA DE JESUS SILVA', 'JALES', 'SP'),\n",
       " (20732189858,\n",
       "  '***.330.168-**',\n",
       "  'DANIELA OLIVEIRA DOS SANTOS',\n",
       "  'SAO PAULO',\n",
       "  'SP'),\n",
       " (20381458983, None, 'APARECIDA DE JESUS SILVA', 'PRADOPOLIS', 'SP'),\n",
       " (20789861660,\n",
       "  '***.575.228-**',\n",
       "  'MARCILENE DE SOUZA FERREIRA',\n",
       "  'SAO PAULO',\n",
       "  'SP'),\n",
       " (20429555924, '***.160.118-**', 'APARECIDA DE JESUS SILVA', 'PAULINIA', 'SP'),\n",
       " (16076155060, '***.835.265-**', 'TATIANE ALVES SANTOS', 'SAO PAULO', 'SP'),\n",
       " (12102260099,\n",
       "  '***.615.358-**',\n",
       "  'MARCIA CRISTINA MONTANHANA',\n",
       "  'CARAGUATATUBA',\n",
       "  'SP'),\n",
       " (20128077306,\n",
       "  '***.081.588-**',\n",
       "  'ADRIANE DE JESUS SANTOS',\n",
       "  'ITAPIRAPUA PAULISTA',\n",
       "  'SP'),\n",
       " (16358953061,\n",
       "  '***.086.753-**',\n",
       "  'MARIA DO ROSARIO GOMES DE MELO',\n",
       "  'MORRO AGUDO',\n",
       "  'SP'),\n",
       " (13642886859,\n",
       "  '***.278.418-**',\n",
       "  'APARECIDA DE JESUS SILVA',\n",
       "  'SAO PAULO',\n",
       "  'SP'),\n",
       " (20030724885, '***.799.568-**', 'EDNA FERREIRA DOS SANTOS', 'OSASCO', 'SP'),\n",
       " (13622350775, '***.523.498-**', 'ADRIANA SANTOS', 'SAO PAULO', 'SP'),\n",
       " (16117315733, '***.359.068-**', 'APARECIDA DE JESUS SILVA', 'BARRETOS', 'SP'),\n",
       " (20373408891, '***.388.525-**', 'APARECIDA DE JESUS SILVA', 'SANTOS', 'SP'),\n",
       " (13548762890, None, 'APARECIDA DE JESUS SILVA', 'SAO PAULO', 'SP')]"
      ]
     },
     "execution_count": 61,
     "metadata": {},
     "output_type": "execute_result"
    }
   ],
   "source": [
    "pessoas"
   ]
  },
  {
   "cell_type": "code",
   "execution_count": 62,
   "metadata": {},
   "outputs": [],
   "source": [
    "df_pessoas = spark.createDataFrame(data=pessoas, schema=schema_pessoas)"
   ]
  },
  {
   "cell_type": "code",
   "execution_count": 63,
   "metadata": {},
   "outputs": [
    {
     "name": "stdout",
     "output_type": "stream",
     "text": [
      "root\n",
      " |-- ID: long (nullable = true)\n",
      " |-- CPF: string (nullable = true)\n",
      " |-- NOME: string (nullable = true)\n",
      " |-- MUNICIPIO: string (nullable = true)\n",
      " |-- UF: string (nullable = true)\n",
      "\n"
     ]
    }
   ],
   "source": [
    "df_pessoas.printSchema()"
   ]
  },
  {
   "cell_type": "code",
   "execution_count": 64,
   "metadata": {},
   "outputs": [
    {
     "name": "stdout",
     "output_type": "stream",
     "text": [
      "+-----------+--------------+------------------------------+-------------------+---+\n",
      "|ID         |CPF           |NOME                          |MUNICIPIO          |UF |\n",
      "+-----------+--------------+------------------------------+-------------------+---+\n",
      "|20128077306|***.081.588-**|ADRIANE DE JESUS SANTOS       |ITAPIRAPUA PAULISTA|SP |\n",
      "|21352016526|NULL          |APARECIDA DE JESUS SILVA      |GUARIBA            |SP |\n",
      "|16358953061|***.086.753-**|MARIA DO ROSARIO GOMES DE MELO|MORRO AGUDO        |SP |\n",
      "|13622350775|***.523.498-**|ADRIANA SANTOS                |SAO PAULO          |SP |\n",
      "|20418689428|***.369.858-**|APARECIDA DE JESUS SILVA      |JALES              |SP |\n",
      "|20732189858|***.330.168-**|DANIELA OLIVEIRA DOS SANTOS   |SAO PAULO          |SP |\n",
      "|20381458983|NULL          |APARECIDA DE JESUS SILVA      |PRADOPOLIS         |SP |\n",
      "|20789861660|***.575.228-**|MARCILENE DE SOUZA FERREIRA   |SAO PAULO          |SP |\n",
      "|20429555924|***.160.118-**|APARECIDA DE JESUS SILVA      |PAULINIA           |SP |\n",
      "|16076155060|***.835.265-**|TATIANE ALVES SANTOS          |SAO PAULO          |SP |\n",
      "|12102260099|***.615.358-**|MARCIA CRISTINA MONTANHANA    |CARAGUATATUBA      |SP |\n",
      "|20128077306|***.081.588-**|ADRIANE DE JESUS SANTOS       |ITAPIRAPUA PAULISTA|SP |\n",
      "|16358953061|***.086.753-**|MARIA DO ROSARIO GOMES DE MELO|MORRO AGUDO        |SP |\n",
      "|13642886859|***.278.418-**|APARECIDA DE JESUS SILVA      |SAO PAULO          |SP |\n",
      "|20030724885|***.799.568-**|EDNA FERREIRA DOS SANTOS      |OSASCO             |SP |\n",
      "|13622350775|***.523.498-**|ADRIANA SANTOS                |SAO PAULO          |SP |\n",
      "|16117315733|***.359.068-**|APARECIDA DE JESUS SILVA      |BARRETOS           |SP |\n",
      "|20373408891|***.388.525-**|APARECIDA DE JESUS SILVA      |SANTOS             |SP |\n",
      "|13548762890|NULL          |APARECIDA DE JESUS SILVA      |SAO PAULO          |SP |\n",
      "+-----------+--------------+------------------------------+-------------------+---+\n",
      "\n"
     ]
    }
   ],
   "source": [
    "df_pessoas.show(truncate=False)"
   ]
  },
  {
   "cell_type": "code",
   "execution_count": 65,
   "metadata": {},
   "outputs": [],
   "source": [
    "valores = [\n",
    "    (20128077306,750.0,202311),\n",
    "    (16358953061,650.0,202311),\n",
    "    (13622350775,325.0,202310),\n",
    "    (20732189858,950.0,202311),\n",
    "    (20789861660,900.0,202311),\n",
    "    (16076155060,850.0,202311),\n",
    "    (12102260099,600.0,202311),\n",
    "    (20128077306,750.0,202310),\n",
    "    (16358953061,950.0,202311),\n",
    "    (20030724885,551.0,202311),\n",
    "    (13622350775,325.0,202309),\n",
    "    (20732189858,950.0,202310),\n",
    "    (20789861660,900.0,202310),\n",
    "    (16076155060,850.0,202310),\n",
    "    (12102260099,600.0,202310),\n",
    "    (20128077306,750.0,202309),\n",
    "    (16358953061,650.0,202310),\n",
    "    (20030724885,551.0,202310),\n",
    "    (13622350775,325.0,202311),\n",
    "    (20732189858,950.0,202309)\n",
    "]"
   ]
  },
  {
   "cell_type": "code",
   "execution_count": 66,
   "metadata": {},
   "outputs": [
    {
     "data": {
      "text/plain": [
       "[(20128077306, 750.0, 202311),\n",
       " (16358953061, 650.0, 202311),\n",
       " (13622350775, 325.0, 202310),\n",
       " (20732189858, 950.0, 202311),\n",
       " (20789861660, 900.0, 202311),\n",
       " (16076155060, 850.0, 202311),\n",
       " (12102260099, 600.0, 202311),\n",
       " (20128077306, 750.0, 202310),\n",
       " (16358953061, 950.0, 202311),\n",
       " (20030724885, 551.0, 202311),\n",
       " (13622350775, 325.0, 202309),\n",
       " (20732189858, 950.0, 202310),\n",
       " (20789861660, 900.0, 202310),\n",
       " (16076155060, 850.0, 202310),\n",
       " (12102260099, 600.0, 202310),\n",
       " (20128077306, 750.0, 202309),\n",
       " (16358953061, 650.0, 202310),\n",
       " (20030724885, 551.0, 202310),\n",
       " (13622350775, 325.0, 202311),\n",
       " (20732189858, 950.0, 202309)]"
      ]
     },
     "execution_count": 66,
     "metadata": {},
     "output_type": "execute_result"
    }
   ],
   "source": [
    "valores"
   ]
  },
  {
   "cell_type": "code",
   "execution_count": 67,
   "metadata": {},
   "outputs": [],
   "source": [
    "schema_valores = StructType([ \\\n",
    "    StructField(\"ID\", LongType(), True), \\\n",
    "    StructField(\"VALOR\", FloatType(), True),\\\n",
    "    StructField(\"ANO\", IntegerType(), True)])"
   ]
  },
  {
   "cell_type": "code",
   "execution_count": 68,
   "metadata": {},
   "outputs": [],
   "source": [
    "df_valores = spark.createDataFrame(data=valores, schema=schema_valores)"
   ]
  },
  {
   "cell_type": "code",
   "execution_count": 69,
   "metadata": {},
   "outputs": [
    {
     "name": "stdout",
     "output_type": "stream",
     "text": [
      "+-----------+-----+------+\n",
      "|ID         |VALOR|ANO   |\n",
      "+-----------+-----+------+\n",
      "|20128077306|750.0|202311|\n",
      "|16358953061|650.0|202311|\n",
      "|13622350775|325.0|202310|\n",
      "|20732189858|950.0|202311|\n",
      "|20789861660|900.0|202311|\n",
      "|16076155060|850.0|202311|\n",
      "|12102260099|600.0|202311|\n",
      "|20128077306|750.0|202310|\n",
      "|16358953061|950.0|202311|\n",
      "|20030724885|551.0|202311|\n",
      "|13622350775|325.0|202309|\n",
      "|20732189858|950.0|202310|\n",
      "|20789861660|900.0|202310|\n",
      "|16076155060|850.0|202310|\n",
      "|12102260099|600.0|202310|\n",
      "|20128077306|750.0|202309|\n",
      "|16358953061|650.0|202310|\n",
      "|20030724885|551.0|202310|\n",
      "|13622350775|325.0|202311|\n",
      "|20732189858|950.0|202309|\n",
      "+-----------+-----+------+\n",
      "\n"
     ]
    }
   ],
   "source": [
    "df_valores.show(truncate=False)"
   ]
  },
  {
   "cell_type": "code",
   "execution_count": 70,
   "metadata": {},
   "outputs": [
    {
     "name": "stdout",
     "output_type": "stream",
     "text": [
      "root\n",
      " |-- ID: long (nullable = true)\n",
      " |-- VALOR: float (nullable = true)\n",
      " |-- ANO: integer (nullable = true)\n",
      "\n"
     ]
    }
   ],
   "source": [
    "df_valores.printSchema()"
   ]
  },
  {
   "cell_type": "code",
   "execution_count": 71,
   "metadata": {},
   "outputs": [],
   "source": [
    "df_pessoas.createOrReplaceTempView(\"pessoas\")"
   ]
  },
  {
   "cell_type": "code",
   "execution_count": 72,
   "metadata": {},
   "outputs": [],
   "source": [
    "df_valores.createOrReplaceTempView(\"valores\")"
   ]
  },
  {
   "cell_type": "code",
   "execution_count": 73,
   "metadata": {},
   "outputs": [],
   "source": [
    "df_result = spark.sql(\"SELECT p.ID, p.CPF, p.NOME, p.MUNICIPIO, p.UF, v.VALOR, v.ANO FROM pessoas p INNER JOIN valores v ON p.ID = v.ID\")"
   ]
  },
  {
   "cell_type": "code",
   "execution_count": 74,
   "metadata": {},
   "outputs": [
    {
     "name": "stdout",
     "output_type": "stream",
     "text": [
      "+-----------+--------------+------------------------------+-------------------+---+-----+------+\n",
      "|ID         |CPF           |NOME                          |MUNICIPIO          |UF |VALOR|ANO   |\n",
      "+-----------+--------------+------------------------------+-------------------+---+-----+------+\n",
      "|12102260099|***.615.358-**|MARCIA CRISTINA MONTANHANA    |CARAGUATATUBA      |SP |600.0|202311|\n",
      "|12102260099|***.615.358-**|MARCIA CRISTINA MONTANHANA    |CARAGUATATUBA      |SP |600.0|202310|\n",
      "|13622350775|***.523.498-**|ADRIANA SANTOS                |SAO PAULO          |SP |325.0|202310|\n",
      "|13622350775|***.523.498-**|ADRIANA SANTOS                |SAO PAULO          |SP |325.0|202309|\n",
      "|13622350775|***.523.498-**|ADRIANA SANTOS                |SAO PAULO          |SP |325.0|202311|\n",
      "|13622350775|***.523.498-**|ADRIANA SANTOS                |SAO PAULO          |SP |325.0|202310|\n",
      "|13622350775|***.523.498-**|ADRIANA SANTOS                |SAO PAULO          |SP |325.0|202309|\n",
      "|13622350775|***.523.498-**|ADRIANA SANTOS                |SAO PAULO          |SP |325.0|202311|\n",
      "|16076155060|***.835.265-**|TATIANE ALVES SANTOS          |SAO PAULO          |SP |850.0|202311|\n",
      "|16076155060|***.835.265-**|TATIANE ALVES SANTOS          |SAO PAULO          |SP |850.0|202310|\n",
      "|16358953061|***.086.753-**|MARIA DO ROSARIO GOMES DE MELO|MORRO AGUDO        |SP |650.0|202311|\n",
      "|16358953061|***.086.753-**|MARIA DO ROSARIO GOMES DE MELO|MORRO AGUDO        |SP |950.0|202311|\n",
      "|16358953061|***.086.753-**|MARIA DO ROSARIO GOMES DE MELO|MORRO AGUDO        |SP |650.0|202310|\n",
      "|16358953061|***.086.753-**|MARIA DO ROSARIO GOMES DE MELO|MORRO AGUDO        |SP |650.0|202311|\n",
      "|16358953061|***.086.753-**|MARIA DO ROSARIO GOMES DE MELO|MORRO AGUDO        |SP |950.0|202311|\n",
      "|16358953061|***.086.753-**|MARIA DO ROSARIO GOMES DE MELO|MORRO AGUDO        |SP |650.0|202310|\n",
      "|20030724885|***.799.568-**|EDNA FERREIRA DOS SANTOS      |OSASCO             |SP |551.0|202311|\n",
      "|20030724885|***.799.568-**|EDNA FERREIRA DOS SANTOS      |OSASCO             |SP |551.0|202310|\n",
      "|20128077306|***.081.588-**|ADRIANE DE JESUS SANTOS       |ITAPIRAPUA PAULISTA|SP |750.0|202311|\n",
      "|20128077306|***.081.588-**|ADRIANE DE JESUS SANTOS       |ITAPIRAPUA PAULISTA|SP |750.0|202310|\n",
      "+-----------+--------------+------------------------------+-------------------+---+-----+------+\n",
      "only showing top 20 rows\n",
      "\n"
     ]
    }
   ],
   "source": [
    "df_result.show(truncate=False)"
   ]
  },
  {
   "cell_type": "code",
   "execution_count": 75,
   "metadata": {},
   "outputs": [],
   "source": [
    "df_pessoas_dedup = df_pessoas.dropDuplicates()"
   ]
  },
  {
   "cell_type": "code",
   "execution_count": 76,
   "metadata": {},
   "outputs": [
    {
     "name": "stdout",
     "output_type": "stream",
     "text": [
      "+-----------+--------------+------------------------------+-------------------+---+\n",
      "|ID         |CPF           |NOME                          |MUNICIPIO          |UF |\n",
      "+-----------+--------------+------------------------------+-------------------+---+\n",
      "|16358953061|***.086.753-**|MARIA DO ROSARIO GOMES DE MELO|MORRO AGUDO        |SP |\n",
      "|20128077306|***.081.588-**|ADRIANE DE JESUS SANTOS       |ITAPIRAPUA PAULISTA|SP |\n",
      "|13622350775|***.523.498-**|ADRIANA SANTOS                |SAO PAULO          |SP |\n",
      "|20789861660|***.575.228-**|MARCILENE DE SOUZA FERREIRA   |SAO PAULO          |SP |\n",
      "|20732189858|***.330.168-**|DANIELA OLIVEIRA DOS SANTOS   |SAO PAULO          |SP |\n",
      "|20418689428|***.369.858-**|APARECIDA DE JESUS SILVA      |JALES              |SP |\n",
      "|12102260099|***.615.358-**|MARCIA CRISTINA MONTANHANA    |CARAGUATATUBA      |SP |\n",
      "|20429555924|***.160.118-**|APARECIDA DE JESUS SILVA      |PAULINIA           |SP |\n",
      "|16076155060|***.835.265-**|TATIANE ALVES SANTOS          |SAO PAULO          |SP |\n",
      "|13642886859|***.278.418-**|APARECIDA DE JESUS SILVA      |SAO PAULO          |SP |\n",
      "|20030724885|***.799.568-**|EDNA FERREIRA DOS SANTOS      |OSASCO             |SP |\n",
      "|16117315733|***.359.068-**|APARECIDA DE JESUS SILVA      |BARRETOS           |SP |\n",
      "|20373408891|***.388.525-**|APARECIDA DE JESUS SILVA      |SANTOS             |SP |\n",
      "|21352016526|NULL          |APARECIDA DE JESUS SILVA      |GUARIBA            |SP |\n",
      "|20381458983|NULL          |APARECIDA DE JESUS SILVA      |PRADOPOLIS         |SP |\n",
      "|13548762890|NULL          |APARECIDA DE JESUS SILVA      |SAO PAULO          |SP |\n",
      "+-----------+--------------+------------------------------+-------------------+---+\n",
      "\n"
     ]
    }
   ],
   "source": [
    "df_pessoas_dedup.show(truncate=False)"
   ]
  },
  {
   "cell_type": "code",
   "execution_count": 77,
   "metadata": {},
   "outputs": [],
   "source": [
    "df_pessoas_dedup.createOrReplaceTempView(\"pessoas_dedup\")"
   ]
  },
  {
   "cell_type": "code",
   "execution_count": 83,
   "metadata": {},
   "outputs": [],
   "source": [
    "df_result = spark.sql(\"\"\"\n",
    "                      SELECT p.ID, p.CPF, p.NOME, p.MUNICIPIO, p.UF, v.VALOR, v.ANO \n",
    "                      FROM pessoas_dedup p \n",
    "                      INNER JOIN valores v ON p.ID = v.ID\n",
    "                      ORDER BY p.ID\"\"\")"
   ]
  },
  {
   "cell_type": "code",
   "execution_count": 84,
   "metadata": {},
   "outputs": [
    {
     "name": "stdout",
     "output_type": "stream",
     "text": [
      "+-----------+--------------+------------------------------+-------------------+---+-----+------+\n",
      "|ID         |CPF           |NOME                          |MUNICIPIO          |UF |VALOR|ANO   |\n",
      "+-----------+--------------+------------------------------+-------------------+---+-----+------+\n",
      "|12102260099|***.615.358-**|MARCIA CRISTINA MONTANHANA    |CARAGUATATUBA      |SP |600.0|202311|\n",
      "|12102260099|***.615.358-**|MARCIA CRISTINA MONTANHANA    |CARAGUATATUBA      |SP |600.0|202310|\n",
      "|13622350775|***.523.498-**|ADRIANA SANTOS                |SAO PAULO          |SP |325.0|202310|\n",
      "|13622350775|***.523.498-**|ADRIANA SANTOS                |SAO PAULO          |SP |325.0|202309|\n",
      "|13622350775|***.523.498-**|ADRIANA SANTOS                |SAO PAULO          |SP |325.0|202311|\n",
      "|16076155060|***.835.265-**|TATIANE ALVES SANTOS          |SAO PAULO          |SP |850.0|202311|\n",
      "|16076155060|***.835.265-**|TATIANE ALVES SANTOS          |SAO PAULO          |SP |850.0|202310|\n",
      "|16358953061|***.086.753-**|MARIA DO ROSARIO GOMES DE MELO|MORRO AGUDO        |SP |650.0|202311|\n",
      "|16358953061|***.086.753-**|MARIA DO ROSARIO GOMES DE MELO|MORRO AGUDO        |SP |950.0|202311|\n",
      "|16358953061|***.086.753-**|MARIA DO ROSARIO GOMES DE MELO|MORRO AGUDO        |SP |650.0|202310|\n",
      "|20030724885|***.799.568-**|EDNA FERREIRA DOS SANTOS      |OSASCO             |SP |551.0|202311|\n",
      "|20030724885|***.799.568-**|EDNA FERREIRA DOS SANTOS      |OSASCO             |SP |551.0|202310|\n",
      "|20128077306|***.081.588-**|ADRIANE DE JESUS SANTOS       |ITAPIRAPUA PAULISTA|SP |750.0|202311|\n",
      "|20128077306|***.081.588-**|ADRIANE DE JESUS SANTOS       |ITAPIRAPUA PAULISTA|SP |750.0|202310|\n",
      "|20128077306|***.081.588-**|ADRIANE DE JESUS SANTOS       |ITAPIRAPUA PAULISTA|SP |750.0|202309|\n",
      "|20732189858|***.330.168-**|DANIELA OLIVEIRA DOS SANTOS   |SAO PAULO          |SP |950.0|202311|\n",
      "|20732189858|***.330.168-**|DANIELA OLIVEIRA DOS SANTOS   |SAO PAULO          |SP |950.0|202310|\n",
      "|20732189858|***.330.168-**|DANIELA OLIVEIRA DOS SANTOS   |SAO PAULO          |SP |950.0|202309|\n",
      "|20789861660|***.575.228-**|MARCILENE DE SOUZA FERREIRA   |SAO PAULO          |SP |900.0|202311|\n",
      "|20789861660|***.575.228-**|MARCILENE DE SOUZA FERREIRA   |SAO PAULO          |SP |900.0|202310|\n",
      "+-----------+--------------+------------------------------+-------------------+---+-----+------+\n",
      "\n"
     ]
    }
   ],
   "source": [
    "df_result.show(truncate=False)"
   ]
  },
  {
   "cell_type": "code",
   "execution_count": null,
   "metadata": {},
   "outputs": [],
   "source": []
  }
 ],
 "metadata": {
  "kernelspec": {
   "display_name": "Python 3",
   "language": "python",
   "name": "python3"
  },
  "language_info": {
   "codemirror_mode": {
    "name": "ipython",
    "version": 3
   },
   "file_extension": ".py",
   "mimetype": "text/x-python",
   "name": "python",
   "nbconvert_exporter": "python",
   "pygments_lexer": "ipython3",
   "version": "3.9.6"
  }
 },
 "nbformat": 4,
 "nbformat_minor": 2
}
