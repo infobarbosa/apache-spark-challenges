{
 "cells": [
  {
   "cell_type": "code",
   "execution_count": 1,
   "metadata": {},
   "outputs": [],
   "source": [
    "from pyspark.sql import SparkSession\n",
    "from pyspark.sql.types import *"
   ]
  },
  {
   "cell_type": "code",
   "execution_count": 2,
   "metadata": {},
   "outputs": [
    {
     "name": "stderr",
     "output_type": "stream",
     "text": [
      "Setting default log level to \"WARN\".\n",
      "To adjust logging level use sc.setLogLevel(newLevel). For SparkR, use setLogLevel(newLevel).\n",
      "24/06/26 21:20:49 WARN NativeCodeLoader: Unable to load native-hadoop library for your platform... using builtin-java classes where applicable\n",
      "24/06/26 21:20:51 WARN Utils: Service 'SparkUI' could not bind on port 4040. Attempting port 4041.\n"
     ]
    },
    {
     "data": {
      "text/plain": [
       "'3.5.1'"
      ]
     },
     "execution_count": 2,
     "metadata": {},
     "output_type": "execute_result"
    }
   ],
   "source": [
    "spark = SparkSession.builder.appName(\"teste2\").getOrCreate()\n",
    "spark.version"
   ]
  },
  {
   "cell_type": "code",
   "execution_count": 9,
   "metadata": {},
   "outputs": [],
   "source": [
    "schema = StructType([ \\\n",
    "    StructField(\"ID\", StringType(), True), \\\n",
    "    StructField(\"CPF\", StringType(), True),\\\n",
    "    StructField(\"NOME\", StringType(), True),\\\n",
    "    StructField(\"MUNICIPIO\", StringType(), True),\\\n",
    "    StructField(\"UF\", StringType(), True)])"
   ]
  },
  {
   "cell_type": "code",
   "execution_count": 10,
   "metadata": {},
   "outputs": [],
   "source": [
    "dados = [\n",
    "(\"20128077306\",\"***.081.588-**\",\"ADRIANE DE JESUS SANTOS\"           ,\"ITAPIRAPUA PAULISTA\" ,\"SP\"),\n",
    "(\"21352016526\",\"NULL          \",\"APARECIDA DE JESUS SILVA\"          ,\"GUARIBA\"             ,\"SP\"),\n",
    "(\"16358953061\",\"***.086.753-**\",\"MARIA DO ROSARIO GOMES DE MELO\"    ,\"MORRO AGUDO\"         ,\"SP\"),\n",
    "(\"13622350775\",\"***.523.498-**\",\"ADRIANA SANTOS\"                    ,\"SAO PAULO\"           ,\"SP\"),\n",
    "(\"20418689428\",\"***.369.858-**\",\"APARECIDA DE JESUS SILVA\"          ,\"JALES\"               ,\"SP\"),\n",
    "(\"20732189858\",\"***.330.168-**\",\"DANIELA OLIVEIRA DOS SANTOS\"       ,\"SAO PAULO\"           ,\"SP\"),\n",
    "(\"20381458983\",\"NULL          \",\"APARECIDA DE JESUS SILVA\"          ,\"PRADOPOLIS\"          ,\"SP\"),\n",
    "(\"20789861660\",\"***.575.228-**\",\"MARCILENE DE SOUZA FERREIRA\"       ,\"SAO PAULO\"           ,\"SP\"),\n",
    "(\"20429555924\",\"***.160.118-**\",\"APARECIDA DE JESUS SILVA\"          ,\"PAULINIA\"            ,\"SP\"),\n",
    "(\"16076155060\",\"***.835.265-**\",\"TATIANE ALVES SANTOS\"              ,\"SAO PAULO\"           ,\"SP\"),\n",
    "(\"12102260099\",\"***.615.358-**\",\"MARCIA CRISTINA MONTANHANA\"        ,\"CARAGUATATUBA\"       ,\"SP\"),\n",
    "(\"20128077306\",\"***.081.588-**\",\"ADRIANE DE JESUS SANTOS\"           ,\"ITAPIRAPUA PAULISTA\" ,\"SP\"),\n",
    "(\"16358953061\",\"***.086.753-**\",\"MARIA DO ROSARIO GOMES DE MELO\"    ,\"MORRO AGUDO\"         ,\"SP\"),\n",
    "(\"13642886859\",\"***.278.418-**\",\"APARECIDA DE JESUS SILVA\"          ,\"SAO PAULO\"           ,\"SP\"),\n",
    "(\"20030724885\",\"***.799.568-**\",\"EDNA FERREIRA DOS SANTOS\"          ,\"OSASCO\"              ,\"SP\"),\n",
    "(\"13622350775\",\"***.523.498-**\",\"ADRIANA SANTOS\"                    ,\"SAO PAULO\"           ,\"SP\"),\n",
    "(\"16117315733\",\"***.359.068-**\",\"APARECIDA DE JESUS SILVA\"          ,\"BARRETOS\"            ,\"SP\"),\n",
    "(\"20373408891\",\"***.388.525-**\",\"APARECIDA DE JESUS SILVA\"          ,\"SANTOS\"              ,\"SP\"),\n",
    "(\"13548762890\",\"NULL          \",\"APARECIDA DE JESUS SILVA\"          ,\"SAO PAULO\"           ,\"SP\")\n",
    "]\n",
    "\n"
   ]
  },
  {
   "cell_type": "code",
   "execution_count": 11,
   "metadata": {},
   "outputs": [
    {
     "data": {
      "text/plain": [
       "[('20128077306',\n",
       "  '***.081.588-**',\n",
       "  'ADRIANE DE JESUS SANTOS',\n",
       "  'ITAPIRAPUA PAULISTA',\n",
       "  'SP'),\n",
       " ('21352016526',\n",
       "  'NULL          ',\n",
       "  'APARECIDA DE JESUS SILVA',\n",
       "  'GUARIBA',\n",
       "  'SP'),\n",
       " ('16358953061',\n",
       "  '***.086.753-**',\n",
       "  'MARIA DO ROSARIO GOMES DE MELO',\n",
       "  'MORRO AGUDO',\n",
       "  'SP'),\n",
       " ('13622350775', '***.523.498-**', 'ADRIANA SANTOS', 'SAO PAULO', 'SP'),\n",
       " ('20418689428', '***.369.858-**', 'APARECIDA DE JESUS SILVA', 'JALES', 'SP'),\n",
       " ('20732189858',\n",
       "  '***.330.168-**',\n",
       "  'DANIELA OLIVEIRA DOS SANTOS',\n",
       "  'SAO PAULO',\n",
       "  'SP'),\n",
       " ('20381458983',\n",
       "  'NULL          ',\n",
       "  'APARECIDA DE JESUS SILVA',\n",
       "  'PRADOPOLIS',\n",
       "  'SP'),\n",
       " ('20789861660',\n",
       "  '***.575.228-**',\n",
       "  'MARCILENE DE SOUZA FERREIRA',\n",
       "  'SAO PAULO',\n",
       "  'SP'),\n",
       " ('20429555924',\n",
       "  '***.160.118-**',\n",
       "  'APARECIDA DE JESUS SILVA',\n",
       "  'PAULINIA',\n",
       "  'SP'),\n",
       " ('16076155060', '***.835.265-**', 'TATIANE ALVES SANTOS', 'SAO PAULO', 'SP'),\n",
       " ('12102260099',\n",
       "  '***.615.358-**',\n",
       "  'MARCIA CRISTINA MONTANHANA',\n",
       "  'CARAGUATATUBA',\n",
       "  'SP'),\n",
       " ('20128077306',\n",
       "  '***.081.588-**',\n",
       "  'ADRIANE DE JESUS SANTOS',\n",
       "  'ITAPIRAPUA PAULISTA',\n",
       "  'SP'),\n",
       " ('16358953061',\n",
       "  '***.086.753-**',\n",
       "  'MARIA DO ROSARIO GOMES DE MELO',\n",
       "  'MORRO AGUDO',\n",
       "  'SP'),\n",
       " ('13642886859',\n",
       "  '***.278.418-**',\n",
       "  'APARECIDA DE JESUS SILVA',\n",
       "  'SAO PAULO',\n",
       "  'SP'),\n",
       " ('20030724885', '***.799.568-**', 'EDNA FERREIRA DOS SANTOS', 'OSASCO', 'SP'),\n",
       " ('13622350775', '***.523.498-**', 'ADRIANA SANTOS', 'SAO PAULO', 'SP'),\n",
       " ('16117315733',\n",
       "  '***.359.068-**',\n",
       "  'APARECIDA DE JESUS SILVA',\n",
       "  'BARRETOS',\n",
       "  'SP'),\n",
       " ('20373408891', '***.388.525-**', 'APARECIDA DE JESUS SILVA', 'SANTOS', 'SP'),\n",
       " ('13548762890',\n",
       "  'NULL          ',\n",
       "  'APARECIDA DE JESUS SILVA',\n",
       "  'SAO PAULO',\n",
       "  'SP')]"
      ]
     },
     "execution_count": 11,
     "metadata": {},
     "output_type": "execute_result"
    }
   ],
   "source": [
    "dados"
   ]
  },
  {
   "cell_type": "code",
   "execution_count": 12,
   "metadata": {},
   "outputs": [],
   "source": [
    "df = spark.createDataFrame(data=dados, schema=schema)"
   ]
  },
  {
   "cell_type": "code",
   "execution_count": 14,
   "metadata": {},
   "outputs": [
    {
     "name": "stdout",
     "output_type": "stream",
     "text": [
      "+-----------+--------------+------------------------------+-------------------+---+\n",
      "|ID         |CPF           |NOME                          |MUNICIPIO          |UF |\n",
      "+-----------+--------------+------------------------------+-------------------+---+\n",
      "|20128077306|***.081.588-**|ADRIANE DE JESUS SANTOS       |ITAPIRAPUA PAULISTA|SP |\n",
      "|21352016526|NULL          |APARECIDA DE JESUS SILVA      |GUARIBA            |SP |\n",
      "|16358953061|***.086.753-**|MARIA DO ROSARIO GOMES DE MELO|MORRO AGUDO        |SP |\n",
      "|13622350775|***.523.498-**|ADRIANA SANTOS                |SAO PAULO          |SP |\n",
      "|20418689428|***.369.858-**|APARECIDA DE JESUS SILVA      |JALES              |SP |\n",
      "|20732189858|***.330.168-**|DANIELA OLIVEIRA DOS SANTOS   |SAO PAULO          |SP |\n",
      "|20381458983|NULL          |APARECIDA DE JESUS SILVA      |PRADOPOLIS         |SP |\n",
      "|20789861660|***.575.228-**|MARCILENE DE SOUZA FERREIRA   |SAO PAULO          |SP |\n",
      "|20429555924|***.160.118-**|APARECIDA DE JESUS SILVA      |PAULINIA           |SP |\n",
      "|16076155060|***.835.265-**|TATIANE ALVES SANTOS          |SAO PAULO          |SP |\n",
      "|12102260099|***.615.358-**|MARCIA CRISTINA MONTANHANA    |CARAGUATATUBA      |SP |\n",
      "|20128077306|***.081.588-**|ADRIANE DE JESUS SANTOS       |ITAPIRAPUA PAULISTA|SP |\n",
      "|16358953061|***.086.753-**|MARIA DO ROSARIO GOMES DE MELO|MORRO AGUDO        |SP |\n",
      "|13642886859|***.278.418-**|APARECIDA DE JESUS SILVA      |SAO PAULO          |SP |\n",
      "|20030724885|***.799.568-**|EDNA FERREIRA DOS SANTOS      |OSASCO             |SP |\n",
      "|13622350775|***.523.498-**|ADRIANA SANTOS                |SAO PAULO          |SP |\n",
      "|16117315733|***.359.068-**|APARECIDA DE JESUS SILVA      |BARRETOS           |SP |\n",
      "|20373408891|***.388.525-**|APARECIDA DE JESUS SILVA      |SANTOS             |SP |\n",
      "|13548762890|NULL          |APARECIDA DE JESUS SILVA      |SAO PAULO          |SP |\n",
      "+-----------+--------------+------------------------------+-------------------+---+\n",
      "\n"
     ]
    }
   ],
   "source": [
    "df.show(truncate=False)"
   ]
  },
  {
   "cell_type": "code",
   "execution_count": null,
   "metadata": {},
   "outputs": [],
   "source": []
  }
 ],
 "metadata": {
  "kernelspec": {
   "display_name": "Python 3",
   "language": "python",
   "name": "python3"
  },
  "language_info": {
   "codemirror_mode": {
    "name": "ipython",
    "version": 3
   },
   "file_extension": ".py",
   "mimetype": "text/x-python",
   "name": "python",
   "nbconvert_exporter": "python",
   "pygments_lexer": "ipython3",
   "version": "3.9.6"
  }
 },
 "nbformat": 4,
 "nbformat_minor": 2
}
